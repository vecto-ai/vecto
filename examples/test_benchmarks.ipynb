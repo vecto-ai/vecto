{
 "cells": [
  {
   "cell_type": "markdown",
   "metadata": {},
   "source": [
    "### Import modules"
   ]
  },
  {
   "cell_type": "code",
   "execution_count": 6,
   "metadata": {},
   "outputs": [],
   "source": [
    "from vecto.benchmarks.categorization.categorization import KMeansCategorization\n",
    "from vecto.benchmarks.outliers.outliers import AveragePairwiseCosine\n",
    "from vecto.benchmarks.synonymy_detection import CosineDistance\n",
    "import vecto.embeddings"
   ]
  },
  {
   "cell_type": "markdown",
   "metadata": {},
   "source": [
    "### Load embeddings"
   ]
  },
  {
   "cell_type": "code",
   "execution_count": 2,
   "metadata": {},
   "outputs": [],
   "source": [
    "embeddings = vecto.embeddings.load_from_file(\"../../glove.6B.50d.txt\")"
   ]
  },
  {
   "cell_type": "markdown",
   "metadata": {},
   "source": [
    "### Categorization"
   ]
  },
  {
   "cell_type": "code",
   "execution_count": null,
   "metadata": {},
   "outputs": [],
   "source": [
    "categorization = KMeansCategorization()\n",
    "categorization.run_on_single_dataset(embeddings, '../../word-benchmarks/word-categorization/monolingual/en/ap.csv')"
   ]
  },
  {
   "cell_type": "markdown",
   "metadata": {
    "collapsed": true
   },
   "source": [
    "### Outlier detection"
   ]
  },
  {
   "cell_type": "code",
   "execution_count": 5,
   "metadata": {},
   "outputs": [
    {
     "data": {
      "text/plain": [
       "{'test': {'cats': {'cat': {'distances': [['tiger', 0.62],\n",
       "     ['run', 0.33],\n",
       "     ['walk', 0.45]],\n",
       "    'is_outlier': False,\n",
       "    'average': 0.47,\n",
       "    'hit': False},\n",
       "   'tiger': {'distances': [['cat', 0.62], ['run', 0.46], ['walk', 0.33]],\n",
       "    'is_outlier': False,\n",
       "    'average': 0.47,\n",
       "    'hit': False},\n",
       "   'run': {'distances': [['cat', 0.33], ['tiger', 0.46], ['walk', 0.68]],\n",
       "    'is_outlier': True,\n",
       "    'average': 0.49,\n",
       "    'hit': False},\n",
       "   'walk': {'distances': [['cat', 0.45], ['tiger', 0.33], ['run', 0.68]],\n",
       "    'is_outlier': True,\n",
       "    'average': 0.49,\n",
       "    'hit': False}},\n",
       "  'fruits': {'apple': {'distances': [['banana', 0.56],\n",
       "     ['the', 0.4],\n",
       "     ['fly', 0.14]],\n",
       "    'is_outlier': False,\n",
       "    'average': 0.37,\n",
       "    'hit': False},\n",
       "   'banana': {'distances': [['apple', 0.56], ['the', 0.26], ['fly', 0.21]],\n",
       "    'is_outlier': False,\n",
       "    'average': 0.34,\n",
       "    'hit': False},\n",
       "   'the': {'distances': [['apple', 0.4], ['banana', 0.26], ['fly', 0.54]],\n",
       "    'is_outlier': True,\n",
       "    'average': 0.4,\n",
       "    'hit': False},\n",
       "   'fly': {'distances': [['apple', 0.14], ['banana', 0.21], ['the', 0.54]],\n",
       "    'is_outlier': True,\n",
       "    'average': 0.3,\n",
       "    'hit': False}}}}"
      ]
     },
     "execution_count": 5,
     "metadata": {},
     "output_type": "execute_result"
    }
   ],
   "source": [
    "outliers = AveragePairwiseCosine()\n",
    "outliers.get_result(embeddings, '../tests/data/benchmarks/outliers')"
   ]
  },
  {
   "cell_type": "markdown",
   "metadata": {},
   "source": [
    "### Synonymy detection"
   ]
  },
  {
   "cell_type": "code",
   "execution_count": 7,
   "metadata": {},
   "outputs": [
    {
     "data": {
      "text/plain": [
       "{'test': {'tiger': [{'suspicious_word': 'cat',\n",
       "    'is_synonym': 'yes',\n",
       "    'hit': False,\n",
       "    'distance': 0.6150732040405273},\n",
       "   {'suspicious_word': 'run',\n",
       "    'is_synonym': 'no',\n",
       "    'hit': False,\n",
       "    'distance': 0.46258053183555603},\n",
       "   {'suspicious_word': 'banana',\n",
       "    'is_synonym': 'no',\n",
       "    'hit': True,\n",
       "    'distance': 0.2886592447757721}],\n",
       "  'run': [{'suspicious_word': 'walk',\n",
       "    'is_synonym': 'yes',\n",
       "    'hit': False,\n",
       "    'distance': 0.6831496953964233},\n",
       "   {'suspicious_word': 'cat',\n",
       "    'is_synonym': 'no',\n",
       "    'hit': True,\n",
       "    'distance': 0.3337527811527252},\n",
       "   {'suspicious_word': 'the',\n",
       "    'is_synonym': 'no',\n",
       "    'hit': False,\n",
       "    'distance': 0.7287839651107788}]}}"
      ]
     },
     "execution_count": 7,
     "metadata": {},
     "output_type": "execute_result"
    }
   ],
   "source": [
    "synonymy_detection = CosineDistance()\n",
    "synonymy_detection.get_result(embeddings, '../tests/data/benchmarks/synonymy_detection')"
   ]
  },
  {
   "cell_type": "code",
   "execution_count": null,
   "metadata": {},
   "outputs": [],
   "source": []
  }
 ],
 "metadata": {
  "kernelspec": {
   "display_name": "Python 3 (ipykernel)",
   "language": "python",
   "name": "python3"
  },
  "language_info": {
   "codemirror_mode": {
    "name": "ipython",
    "version": 3
   },
   "file_extension": ".py",
   "mimetype": "text/x-python",
   "name": "python",
   "nbconvert_exporter": "python",
   "pygments_lexer": "ipython3",
   "version": "3.10.4"
  }
 },
 "nbformat": 4,
 "nbformat_minor": 2
}
